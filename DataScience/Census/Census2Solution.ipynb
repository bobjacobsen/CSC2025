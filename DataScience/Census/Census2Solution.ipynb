{
 "cells": [
  {
   "cell_type": "code",
   "execution_count": null,
   "metadata": {},
   "outputs": [],
   "source": [
    "from datascience import *\n",
    "import numpy as np\n",
    "\n",
    "%matplotlib inline\n",
    "import matplotlib.pyplot as plots\n",
    "plots.style.use('fivethirtyeight')\n",
    "\n",
    "# Configure for presentation\n",
    "np.set_printoptions(threshold=50, linewidth=50)\n",
    "import matplotlib as mpl\n",
    "mpl.rc('font', size=16)"
   ]
  },
  {
   "cell_type": "markdown",
   "metadata": {},
   "source": [
    "## Census 2: Age and Gender in Census Data"
   ]
  },
  {
   "cell_type": "code",
   "execution_count": null,
   "metadata": {},
   "outputs": [],
   "source": [
    "# this census file is online here: \n",
    "# http://www2.census.gov/programs-surveys/popest/datasets/2010-2015/national/asrh/nc-est2015-agesex-res.csv\n",
    "\n",
    "# This file has same content as the one we explored in the Census 1 exercise\n",
    "full_census_table = Table.read_table('nc-est2015-agesex-res.csv')\n",
    "partial = full_census_table.select('SEX', 'AGE', 'POPESTIMATE2010', 'POPESTIMATE2015')\n",
    "us_pop = partial.relabeled(2, '2010').relabeled(3, '2015')\n",
    "us_pop"
   ]
  },
  {
   "cell_type": "code",
   "execution_count": null,
   "metadata": {},
   "outputs": [],
   "source": [
    "us_pop.where('AGE', 70) # examine a set of rows with the same age"
   ]
  },
  {
   "cell_type": "code",
   "execution_count": null,
   "metadata": {},
   "outputs": [],
   "source": [
    "us_pop.where('AGE', 70).where([False, True, True]) # remove the \"all\" zero element explicitly"
   ]
  },
  {
   "cell_type": "code",
   "execution_count": null,
   "metadata": {},
   "outputs": [],
   "source": [
    "seventy = us_pop.where('AGE', 70)  # another comparison across the rows\n",
    "seventy.column('2010') < 2000000"
   ]
  },
  {
   "cell_type": "code",
   "execution_count": null,
   "metadata": {},
   "outputs": [],
   "source": [
    "seventy.where(seventy.column('2010') < 2000000)  # another way to remove a row"
   ]
  },
  {
   "cell_type": "code",
   "execution_count": null,
   "metadata": {},
   "outputs": [],
   "source": [
    "us_pop.column('2015') / us_pop.column('2010') > 1.5  # compute a quantity and compare it to get a selector"
   ]
  },
  {
   "cell_type": "code",
   "execution_count": null,
   "metadata": {},
   "outputs": [],
   "source": [
    "us_pop.where(us_pop.column('2015') / us_pop.column('2010') > 1.5)"
   ]
  },
  {
   "cell_type": "markdown",
   "metadata": {},
   "source": [
    "## Census & ZIP Codes"
   ]
  },
  {
   "cell_type": "code",
   "execution_count": null,
   "metadata": {
    "scrolled": false
   },
   "outputs": [],
   "source": [
    "# Read a GIS file of all California Zip (postal) codes and their locations\n",
    "zips = Map.read_geojson('ca_zips.geojson.gz')\n",
    "zips"
   ]
  },
  {
   "cell_type": "code",
   "execution_count": null,
   "metadata": {},
   "outputs": [],
   "source": [
    "zips_table = Table.from_records(zips.features)\n",
    "zips_table.show(1)\n",
    "# you may have to scale out and move to lower right to see the content"
   ]
  },
  {
   "cell_type": "code",
   "execution_count": null,
   "metadata": {},
   "outputs": [],
   "source": [
    "# Berkeley's town postal codes are between 94700 and 94799\n",
    "berkeley = zips_table.where('ZIP', are.between('94700', '94799'))\n",
    "berkeley.show(2)\n",
    "# you may have to scale out and move to lower right to see the content"
   ]
  },
  {
   "cell_type": "code",
   "execution_count": null,
   "metadata": {},
   "outputs": [],
   "source": [
    "# You can ask for a map of all the entries in a table.\n",
    "# The \"feature\" column is the GIS info\n",
    "Map(berkeley.column('feature'))"
   ]
  },
  {
   "cell_type": "markdown",
   "metadata": {},
   "source": [
    "### Income data"
   ]
  },
  {
   "cell_type": "code",
   "execution_count": null,
   "metadata": {},
   "outputs": [],
   "source": [
    "# Read a separate table from the tax authority on total income per zip (in thousands)\n",
    "income_raw = Table.read_table('ca_income_by_zip.csv', dtype={'ZIP': str})\n",
    "income_raw"
   ]
  },
  {
   "cell_type": "code",
   "execution_count": null,
   "metadata": {},
   "outputs": [],
   "source": [
    "# Reformat the data\n",
    "# Drop some columns and sum the rows for each zip code\n",
    "income_by_zipcode = income_raw.drop('STATEFIPS', 'STATE', 'agi_stub').group('ZIP', sum)\n",
    "# Make a Table with the rows we'll need (column definitions from tax authority documentation)\n",
    "income = Table().with_columns(\n",
    "        'ZIP', income_by_zipcode.column('ZIP'),\n",
    "        'returns', income_by_zipcode.column('N02650 sum'),\n",
    "        'total income', income_by_zipcode.column('A02650 sum') * 1000, # data was in thousands\n",
    "        'farmers', income_by_zipcode.column('SCHF sum')\n",
    "    ).where('ZIP', are.not_equal_to('99999'))  # trim off out-of-state returns\n",
    "income.set_format('total income', NumberFormatter(0)).show(5) # pretty print"
   ]
  },
  {
   "cell_type": "code",
   "execution_count": null,
   "metadata": {},
   "outputs": [],
   "source": [
    "# What does the distibution of return (i.e. family) income look like:\n",
    "plots.hist(income['total income'] / income['returns'], bins = 50);"
   ]
  },
  {
   "cell_type": "code",
   "execution_count": null,
   "metadata": {},
   "outputs": [],
   "source": [
    "# Which zip codes have the highest total income?\n",
    "income.sort('total income', descending=True)"
   ]
  },
  {
   "cell_type": "code",
   "execution_count": null,
   "metadata": {},
   "outputs": [],
   "source": [
    "# Map that highest one manually\n",
    "Map(zips_table.where('ZIP', '94301').column(1))\n",
    "# It's Palo Alto, next to Stanford University and in Silicon Valley"
   ]
  },
  {
   "cell_type": "code",
   "execution_count": null,
   "metadata": {
    "scrolled": false
   },
   "outputs": [],
   "source": [
    "# Combine income and GIS data with a join operation, then find the highest (i.e. not manually)\n",
    "income.join('ZIP', zips_table).sort('total income', descending=True)\n",
    "# Again, move to the lower right to see the selected areas"
   ]
  },
  {
   "cell_type": "code",
   "execution_count": null,
   "metadata": {
    "scrolled": true
   },
   "outputs": [],
   "source": [
    "# Map all of the ZIP codes that have more than $1B returns.\n",
    "Map(income.where('total income', are.above(1e9)).join('ZIP', zips_table).column('feature'))"
   ]
  },
  {
   "cell_type": "code",
   "execution_count": null,
   "metadata": {},
   "outputs": [],
   "source": [
    "# Map all of the ZIP codes that have _average_ income over $1M\n",
    "result = income.where( income['total income'] / income['returns'] > 1e6)\n",
    "Map(result.join('ZIP', zips_table).column('feature'))\n",
    "# Change that to $500k and repeat it.\n",
    "# Try a few smaller ones too to see how the top end of income is distributed in California"
   ]
  },
  {
   "cell_type": "code",
   "execution_count": null,
   "metadata": {
    "scrolled": true
   },
   "outputs": [],
   "source": [
    "# Repeat that for average income under $30K\n",
    "# (There aren't many tax returns under $20k due to the way US taxes work)\n",
    "result = income.where( income['total income'] / income['returns'] < 30000)\n",
    "Map(result.join('ZIP', zips_table).column('feature'))\n",
    "# What do you notice about the kinds of places that show up?\n",
    "# Try a few higher values to see how the low end of income is distributed in California"
   ]
  },
  {
   "cell_type": "code",
   "execution_count": null,
   "metadata": {},
   "outputs": [],
   "source": [
    "# Some of the areas in the map above are city cores (except San Francisco and San Jose?), and \n",
    "# some appear to be farmland.  Let's look at where farmers are.\n",
    "\n",
    "# Map all of the ZIP codes that have more than 5% farm income\n",
    "f = income.where(income.column('farmers') >= 0.05 * income.column('returns'))\n",
    "Map(f.join('ZIP', zips_table).column('feature'))"
   ]
  },
  {
   "cell_type": "code",
   "execution_count": null,
   "metadata": {},
   "outputs": [],
   "source": [
    "# Map some with the highest number of farmers\n",
    "f = income.where(income.column('farmers') >= 250)\n",
    "Map(f.join('ZIP', zips_table).column('feature'))"
   ]
  },
  {
   "cell_type": "code",
   "execution_count": null,
   "metadata": {},
   "outputs": [],
   "source": [
    "# Map all of the ZIP codes that have more than 5% farm income and $100M in returns\n",
    "f = income.where(income.column('farmers') >= 0.05 * income.column('returns'))\n",
    "both = f.where('total income', are.above(1e8))\n",
    "Map(both.join('ZIP', zips_table).column('feature'))"
   ]
  },
  {
   "cell_type": "code",
   "execution_count": null,
   "metadata": {},
   "outputs": [],
   "source": [
    "# For something completely different:\n",
    "home = income.where('ZIP', '94707') # Bob's home zip code\n",
    "home"
   ]
  },
  {
   "cell_type": "code",
   "execution_count": null,
   "metadata": {},
   "outputs": [],
   "source": [
    "(home[2]/home[1])[0]   # average return (i.e. family) income (thosands)"
   ]
  },
  {
   "cell_type": "code",
   "execution_count": null,
   "metadata": {},
   "outputs": [],
   "source": [
    "# Where does that lie in the distribution of family income in Calfornia?"
   ]
  },
  {
   "cell_type": "code",
   "execution_count": null,
   "metadata": {},
   "outputs": [],
   "source": [
    "plots.hist(income['total income'] / income['returns'], bins = 50);\n",
    "# As we saw, values go up over 1000 ($1B), but most are well below"
   ]
  },
  {
   "cell_type": "code",
   "execution_count": null,
   "metadata": {},
   "outputs": [],
   "source": [
    "# find the fraction of California zip codes with smaller average income\n",
    "below = income.where(income['total income'] / income['returns'] < (home[2]/home[1])[0])\n",
    "below.num_rows / income.num_rows"
   ]
  },
  {
   "cell_type": "code",
   "execution_count": null,
   "metadata": {},
   "outputs": [],
   "source": [
    "# Find the mean family income\n",
    "# Hint:  Add family income to the table as a column so you can ask for mean()\n",
    "income = income.with_column('family income', income['total income'] / income['returns'])\n",
    "income['family income'].mean()"
   ]
  },
  {
   "cell_type": "code",
   "execution_count": null,
   "metadata": {},
   "outputs": [],
   "source": []
  }
 ],
 "metadata": {
  "kernelspec": {
   "display_name": "Python 3 (ipykernel)",
   "language": "python",
   "name": "python3"
  },
  "language_info": {
   "codemirror_mode": {
    "name": "ipython",
    "version": 3
   },
   "file_extension": ".py",
   "mimetype": "text/x-python",
   "name": "python",
   "nbconvert_exporter": "python",
   "pygments_lexer": "ipython3",
   "version": "3.9.12"
  }
 },
 "nbformat": 4,
 "nbformat_minor": 2
}
