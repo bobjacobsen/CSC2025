{
 "cells": [
  {
   "cell_type": "code",
   "execution_count": null,
   "metadata": {},
   "outputs": [],
   "source": [
    "# usual imports\n",
    "from datascience import *\n",
    "import numpy as np\n",
    "\n",
    "%matplotlib inline\n",
    "import matplotlib.pyplot as plots\n",
    "plots.style.use('fivethirtyeight')"
   ]
  },
  {
   "cell_type": "markdown",
   "metadata": {},
   "source": [
    "## Census 1"
   ]
  },
  {
   "cell_type": "code",
   "execution_count": null,
   "metadata": {},
   "outputs": [],
   "source": [
    "# As of Jan 2017, this census file is online here: \n",
    "data = 'http://www2.census.gov/programs-surveys/popest/datasets/2010-2015/national/asrh/nc-est2015-agesex-res.csv'\n",
    "\n",
    "# A copy can be accessed here in case census.gov moves the file:\n",
    "# data = 'http://inferentialthinking.com/notebooks/nc-est2015-agesex-res.csv'\n",
    "# or via a local copy\n",
    "# data = 'nc-est2015-agesex-res.csv'\n",
    "\n",
    "\n",
    "full_census_table = Table.read_table(data)\n",
    "\n",
    "partial = full_census_table.select(['SEX', 'AGE', 4, 9])\n",
    "us_pop = partial.relabeled(2, '2010').relabeled(3, '2015')\n",
    "ratio = (us_pop.column(3) / us_pop.column(2))\n",
    "\n",
    "census = us_pop.with_columns(  # add columns with computed info\n",
    "        'Change', us_pop.column(3) - us_pop.column(2), \n",
    "        'Total Growth', ratio - 1,\n",
    "        'Annual Growth', ratio ** (1/5) - 1)\n",
    "census.set_format([2, 3, 4], NumberFormatter)  # show column as percentage\n",
    "census.set_format([5, 6], PercentFormatter)"
   ]
  },
  {
   "cell_type": "code",
   "execution_count": null,
   "metadata": {},
   "outputs": [],
   "source": [
    "# SEX == 1 is female, == 2 is male, 0 is the combined total \n",
    "# select out \"both\" entries\n",
    "by_age = census.where('SEX', 0).drop('SEX').where('AGE', are.below(999))\n",
    "by_age"
   ]
  },
  {
   "cell_type": "code",
   "execution_count": null,
   "metadata": {},
   "outputs": [],
   "source": [
    "# plot 2010 and 2015 population vs age \n",
    "# (Would be easier to understand if the column names were used)\n",
    "by_age.select(0, 1, 2).plot(0)"
   ]
  },
  {
   "cell_type": "code",
   "execution_count": null,
   "metadata": {},
   "outputs": [],
   "source": [
    "# plot change by age; does the structure make sense?\n",
    "by_age.select(\"AGE\", \"Change\").plot(0)"
   ]
  },
  {
   "cell_type": "code",
   "execution_count": null,
   "metadata": {},
   "outputs": [],
   "source": [
    "# which ages have the most change?\n",
    "# 'Change' is the number difference from 2010 to 2015 at that age\n",
    "# 'Total Growth' and 'Annual Growth' are 2010 to 2015 percentages at that age\n",
    "by_age.sort(\"Change\", descending=True)"
   ]
  },
  {
   "cell_type": "code",
   "execution_count": null,
   "metadata": {},
   "outputs": [],
   "source": [
    "# When were those people born?\n",
    "2010-68 "
   ]
  },
  {
   "cell_type": "code",
   "execution_count": null,
   "metadata": {},
   "outputs": [],
   "source": [
    "2015-68 "
   ]
  },
  {
   "cell_type": "code",
   "execution_count": null,
   "metadata": {},
   "outputs": [],
   "source": [
    "# What do you think is the cause of that big increase?"
   ]
  },
  {
   "cell_type": "code",
   "execution_count": null,
   "metadata": {},
   "outputs": [],
   "source": []
  },
  {
   "cell_type": "code",
   "execution_count": null,
   "metadata": {},
   "outputs": [],
   "source": [
    "# look at the top end (100 bin includes 101, 102, etc)\n",
    "by_age.where('AGE', are.above(89)).show()"
   ]
  },
  {
   "cell_type": "code",
   "execution_count": null,
   "metadata": {},
   "outputs": [],
   "source": [
    "# Can you show whether people are living longer or not? \n",
    "# How do you account for birth rate and immigration differences?"
   ]
  },
  {
   "cell_type": "code",
   "execution_count": null,
   "metadata": {},
   "outputs": [],
   "source": [
    "# As a hint, let's add a column that's the difference from year to year\n",
    "# i.e. 2010 age 1 - 2010 age 0 is 6558 more people\n",
    "with_delta2010 = by_age.with_column('2010 Diff', by_age.to_df()['2010'].diff())\n",
    "with_delta2010.where('AGE', are.above(89)).show()\n",
    "# Can you make this a fraction?  Do the same for 2015?"
   ]
  },
  {
   "cell_type": "code",
   "execution_count": null,
   "metadata": {},
   "outputs": [],
   "source": [
    "# Repeat to make a fraction and display as a percent\n",
    "with_delta2010 = by_age.with_column('2010 Diff', by_age.to_df()['2010'].diff() / by_age.to_df()['2010'])\n",
    "with_delta2010.set_format('2010 Diff', PercentFormatter)\n",
    "with_delta2010.where('AGE', are.above(89)).show()"
   ]
  },
  {
   "cell_type": "code",
   "execution_count": null,
   "metadata": {},
   "outputs": [],
   "source": [
    "# and add the 2015 column\n",
    "with_delta = with_delta2010.with_column('2015 Diff', with_delta2010.to_df()['2015'].diff() / with_delta2010.to_df()['2015'])\n",
    "with_delta.set_format('2015 Diff', PercentFormatter)\n",
    "with_delta.where('AGE', are.above(89)).show()"
   ]
  },
  {
   "cell_type": "code",
   "execution_count": null,
   "metadata": {},
   "outputs": [],
   "source": [
    "# plot as a bar plot for easier scanning and interpretation\n",
    "for_bar_plot = with_delta.drop(\"Change\", \"2010\", \"2015\", \"Total Growth\", \"Annual Growth\")\n",
    "for_bar_plot.barh('AGE')"
   ]
  },
  {
   "cell_type": "code",
   "execution_count": null,
   "metadata": {},
   "outputs": [],
   "source": [
    "# Look at the changes by age between 60 and 70. See anything striking?"
   ]
  }
 ],
 "metadata": {
  "kernelspec": {
   "display_name": "Python 3 (ipykernel)",
   "language": "python",
   "name": "python3"
  },
  "language_info": {
   "codemirror_mode": {
    "name": "ipython",
    "version": 3
   },
   "file_extension": ".py",
   "mimetype": "text/x-python",
   "name": "python",
   "nbconvert_exporter": "python",
   "pygments_lexer": "ipython3",
   "version": "3.9.12"
  }
 },
 "nbformat": 4,
 "nbformat_minor": 2
}
