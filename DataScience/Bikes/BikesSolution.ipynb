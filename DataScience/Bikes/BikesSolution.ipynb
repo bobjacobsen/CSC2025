{
 "cells": [
  {
   "cell_type": "code",
   "execution_count": null,
   "metadata": {},
   "outputs": [],
   "source": [
    "# usual imports\n",
    "from datascience import *\n",
    "import numpy as np\n",
    "import pandas as pd\n",
    "\n",
    "%matplotlib inline\n",
    "import matplotlib.pyplot as plots\n",
    "#plots.style.use('fivethirtyeight')\n",
    "\n",
    "# Configure for presentation\n",
    "#np.set_printoptions(threshold=50, linewidth=50)\n",
    "import matplotlib as mpl\n",
    "#mpl.rc('font', size=16)"
   ]
  },
  {
   "cell_type": "markdown",
   "metadata": {},
   "source": [
    "## Bikes"
   ]
  },
  {
   "cell_type": "code",
   "execution_count": null,
   "metadata": {},
   "outputs": [],
   "source": [
    " # Read a dataset from a bike-rental firm containing 354k rentals\n",
    "trips = Table.read_table('trip.csv')  \n",
    "# see what columns are available in this data set:\n",
    "trips"
   ]
  },
  {
   "cell_type": "code",
   "execution_count": null,
   "metadata": {},
   "outputs": [],
   "source": [
    "# identify a subsample of \"commuters\"\n",
    "commute = trips.where('Duration', are.below(1800))   # Why is this here?  Are there significant ones above that?\n",
    "commute.hist('Duration')"
   ]
  },
  {
   "cell_type": "code",
   "execution_count": null,
   "metadata": {},
   "outputs": [],
   "source": [
    "commute.hist('Duration', bins=60, unit='second')  # clean the plot up a bit"
   ]
  },
  {
   "cell_type": "code",
   "execution_count": null,
   "metadata": {},
   "outputs": [],
   "source": [
    "commute.hist('Duration', bins=np.arange(1801), unit='second')  # there are 354K rows"
   ]
  },
  {
   "cell_type": "code",
   "execution_count": null,
   "metadata": {},
   "outputs": [],
   "source": [
    "# group by starting location to get counts, then sort to get largest values\n",
    "starts = commute.group('Start Station').sort('count', descending=True)\n",
    "starts"
   ]
  },
  {
   "cell_type": "code",
   "execution_count": null,
   "metadata": {},
   "outputs": [],
   "source": [
    "# Compute a table counting start -> end trips\n",
    "pivot = commute.pivot('Start Station', 'End Station')\n",
    "pivot"
   ]
  },
  {
   "cell_type": "code",
   "execution_count": null,
   "metadata": {},
   "outputs": [],
   "source": [
    "# It's easier to interpret this graphically - the heat plot\n",
    "plots.rcParams['figure.figsize'] = (11., 11.)  # make a square plot\n",
    "plots.figure()\n",
    "ct = pd.crosstab(commute['Start Station'], commute['End Station']) # pandas computation of pivot table\n",
    "plots.grid(False)\n",
    "plots.pcolor(ct)    # plot that dataframe as color spectrum\n",
    "plots.xlabel('Start Station Index')\n",
    "plots.ylabel('End Station Index')\n",
    "plots.plot();"
   ]
  },
  {
   "cell_type": "code",
   "execution_count": null,
   "metadata": {},
   "outputs": [],
   "source": [
    "# Once you have the area of interest, you can pull values\n",
    "# indices are inclusive/exclusive\n",
    "pivot.row(50)[0:1], pivot.row(50)[60:71]  # so this is columns 60 through 70 in upper right"
   ]
  },
  {
   "cell_type": "code",
   "execution_count": null,
   "metadata": {},
   "outputs": [],
   "source": [
    "duration = trips.select('Start Station', 'End Station', 'Duration')  # narrow down the table to three columns\n",
    "duration"
   ]
  },
  {
   "cell_type": "code",
   "execution_count": null,
   "metadata": {},
   "outputs": [],
   "source": [
    "# Group the trips from each to each, then select the shortest duration trip in each bin\n",
    "shortest = duration.group(['Start Station', 'End Station'], min) \n",
    "shortest"
   ]
  },
  {
   "cell_type": "code",
   "execution_count": null,
   "metadata": {},
   "outputs": [],
   "source": [
    "# Select out the trips starting at a specific station\n",
    "from_cc = shortest.where('Start Station', are.containing('Civic Center BART')).sort('Duration min')\n",
    "from_cc"
   ]
  },
  {
   "cell_type": "markdown",
   "metadata": {},
   "source": [
    "## Maps"
   ]
  },
  {
   "cell_type": "code",
   "execution_count": null,
   "metadata": {},
   "outputs": [],
   "source": [
    "# Get the locations of the stations\n",
    "stations = Table.read_table('station.csv')   # Table of station locations\n",
    "stations                                     # landmark is the town containg the station"
   ]
  },
  {
   "cell_type": "code",
   "execution_count": null,
   "metadata": {
    "scrolled": false
   },
   "outputs": [],
   "source": [
    "# Map all the locations\n",
    "Marker.map_table(stations.select('lat', 'long', 'name'))"
   ]
  },
  {
   "cell_type": "code",
   "execution_count": null,
   "metadata": {},
   "outputs": [],
   "source": [
    "# Show the San Francisco locations\n",
    "sf = stations.where('landmark', 'San Francisco')\n",
    "Circle.map_table(sf.select('lat', 'long', 'name'), color='green', area=100)"
   ]
  },
  {
   "cell_type": "code",
   "execution_count": null,
   "metadata": {},
   "outputs": [],
   "source": [
    "# Define colors for the various areas (\"landmarks\")\n",
    "colors = stations.group('landmark').with_column(\n",
    "    'color', make_array('blue', 'red', 'green', 'orange', 'purple'))\n",
    "colors"
   ]
  },
  {
   "cell_type": "code",
   "execution_count": null,
   "metadata": {},
   "outputs": [],
   "source": [
    "# Map those groupings\n",
    "colored = stations.join('landmark', colors).select('lat', 'long', 'name', 'color')\n",
    "Marker.map_table(colored)"
   ]
  },
  {
   "cell_type": "code",
   "execution_count": null,
   "metadata": {},
   "outputs": [],
   "source": [
    "# Calculate the number of trips starting at each station by joining the two data sets\n",
    "station_starts = stations.join('name', starts, 'Start Station')\n",
    "station_starts"
   ]
  },
  {
   "cell_type": "code",
   "execution_count": null,
   "metadata": {},
   "outputs": [],
   "source": [
    "# Show how many trips start from each location?\n",
    "Circle.map_table(station_starts.select('lat', 'long', 'name').with_columns(  # adding presentation options\n",
    "    'color', 'blue',                                                         # show blue circles \n",
    "    'area', station_starts.column('count') * 0.1                             # set circle size from number starts\n",
    "))"
   ]
  },
  {
   "cell_type": "code",
   "execution_count": null,
   "metadata": {},
   "outputs": [],
   "source": [
    "from_ft = shortest.where('Start Station', are.containing('Harry Bridges Plaza (Ferry Building)'))"
   ]
  },
  {
   "cell_type": "code",
   "execution_count": null,
   "metadata": {
    "scrolled": true
   },
   "outputs": [],
   "source": [
    "from_ft_dest = from_ft.join(\"End Station\", stations, \"name\")\n",
    "display(from_ft_dest)"
   ]
  },
  {
   "cell_type": "code",
   "execution_count": null,
   "metadata": {},
   "outputs": [],
   "source": [
    "# Where do rentals from the Ferry Building end up?\n",
    "Circle.map_table(from_ft_dest.select('lat', 'long', 'End Station'), area=100)"
   ]
  },
  {
   "cell_type": "code",
   "execution_count": null,
   "metadata": {},
   "outputs": [],
   "source": [
    "# Some exercises:\n",
    "# Where do trips that start in the San Jose landmark end up?"
   ]
  },
  {
   "cell_type": "code",
   "execution_count": null,
   "metadata": {},
   "outputs": [],
   "source": [
    "# first create a table with start station and landmark\n",
    "starts = shortest.join(\"Start Station\", stations, \"name\")\n",
    "starts"
   ]
  },
  {
   "cell_type": "code",
   "execution_count": null,
   "metadata": {},
   "outputs": [],
   "source": [
    "# keep the San Jose landmark\n",
    "sjstarts = starts.where(starts['landmark'] == \"San Jose\")\n",
    "sjstarts"
   ]
  },
  {
   "cell_type": "code",
   "execution_count": null,
   "metadata": {},
   "outputs": [],
   "source": [
    "# finally, group and display these\n",
    "sjstarts.group(\"End Station\").sort('End Station')  # alphabetize"
   ]
  },
  {
   "cell_type": "code",
   "execution_count": null,
   "metadata": {},
   "outputs": [],
   "source": [
    "# Where do the longest commuter trips start? End?\n",
    "# How do you want to display that information?"
   ]
  },
  {
   "cell_type": "code",
   "execution_count": null,
   "metadata": {},
   "outputs": [],
   "source": [
    "# a straight-forward way to do this is to augment the \"commuters\" selection at the top to select\n",
    "# greater than 1750 too, then rerun the notebook!\n",
    "commute = trips.where(trips['Duration'] < 1800)\n",
    "commute = commute.where(commute['Duration'] > 1750) \n",
    "commute.hist('Duration')\n",
    "commute\n"
   ]
  },
  {
   "cell_type": "code",
   "execution_count": null,
   "metadata": {},
   "outputs": [],
   "source": [
    "# \"group\" to find starts:\n",
    "commute.group(\"Start Station\").sort(\"count\", descending = True)"
   ]
  },
  {
   "cell_type": "code",
   "execution_count": null,
   "metadata": {},
   "outputs": [],
   "source": [
    "# \"group\" to find ends:\n",
    "commute.group(\"End Station\").sort(\"count\", descending = True)"
   ]
  },
  {
   "cell_type": "code",
   "execution_count": null,
   "metadata": {},
   "outputs": [],
   "source": [
    "# doing the pivot table shows lots of empty cells\n",
    "commute.pivot('Start Station', 'End Station')"
   ]
  },
  {
   "cell_type": "code",
   "execution_count": null,
   "metadata": {},
   "outputs": [],
   "source": [
    "# so remake the heat plot\n",
    "plots.rcParams['figure.figsize'] = (11., 11.)  # make a square plot\n",
    "plots.figure()\n",
    "ct = pd.crosstab(commute['Start Station'], commute['End Station']) # pandas computation of pivot table\n",
    "plots.grid(False)\n",
    "plots.pcolor(ct)    # plot that dataframe as color spectrum\n",
    "plots.xlabel('Start Station Index')\n",
    "plots.ylabel('End Station Index')\n",
    "plots.plot();"
   ]
  },
  {
   "cell_type": "code",
   "execution_count": null,
   "metadata": {},
   "outputs": [],
   "source": []
  },
  {
   "cell_type": "code",
   "execution_count": null,
   "metadata": {},
   "outputs": [],
   "source": [
    "# make a table of locations of interest to you, for example \n",
    "# (google i.e. \"krakow latitude longitude\" for values)\n",
    "local = Table(['name', 'lat', 'long', 'landmark']).with_rows([\n",
    "    ['Downtown', 50.0647, 19.9450, 'Krakow'],\n",
    "    ['Hotel', 50.0699, 19.8975, 'Krakow']    \n",
    "])"
   ]
  },
  {
   "cell_type": "code",
   "execution_count": null,
   "metadata": {},
   "outputs": [],
   "source": [
    "# and make some plots. Maybe add another column for a 1-10 star rating and show that as circle size?"
   ]
  },
  {
   "cell_type": "code",
   "execution_count": null,
   "metadata": {},
   "outputs": [],
   "source": [
    "local = Table(['name', 'lat', 'long', 'landmark', 'rating']).with_rows([\n",
    "    ['Downtown', 50.0647, 19.9450, 'Krakow', 9],\n",
    "    ['Hotel', 50.0699, 19.8975, 'Krakow', 5]    \n",
    "])"
   ]
  },
  {
   "cell_type": "code",
   "execution_count": null,
   "metadata": {},
   "outputs": [],
   "source": [
    "Circle.map_table(local.select('lat', 'long', 'name').with_columns(  # adding presentation options\n",
    "    'color', 'blue',                                                         # show blue circles \n",
    "    'area', local.column('rating') * local.column('rating') * 20                             # set circle size from number starts\n",
    "))"
   ]
  },
  {
   "cell_type": "code",
   "execution_count": null,
   "metadata": {},
   "outputs": [],
   "source": []
  }
 ],
 "metadata": {
  "kernelspec": {
   "display_name": "Python 3 (ipykernel)",
   "language": "python",
   "name": "python3"
  },
  "language_info": {
   "codemirror_mode": {
    "name": "ipython",
    "version": 3
   },
   "file_extension": ".py",
   "mimetype": "text/x-python",
   "name": "python",
   "nbconvert_exporter": "python",
   "pygments_lexer": "ipython3",
   "version": "3.9.12"
  }
 },
 "nbformat": 4,
 "nbformat_minor": 2
}
