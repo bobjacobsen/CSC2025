{
 "cells": [
  {
   "cell_type": "code",
   "execution_count": null,
   "metadata": {},
   "outputs": [],
   "source": [
    "# Examine the book \"Little Women\" to see what we can learn from its text\n",
    "\n",
    "# usual imports\n",
    "from datascience import *\n",
    "import numpy as np\n",
    "import pandas as pd\n",
    "%matplotlib inline\n",
    "import matplotlib.pyplot as plots\n",
    "plots.style.use('fivethirtyeight')\n",
    "import warnings\n",
    "warnings.simplefilter(action=\"ignore\", category=FutureWarning)\n",
    "\n",
    "from urllib.request import urlopen \n",
    "import re\n",
    "def read_url(url): \n",
    "    return re.sub('\\\\s+', ' ', urlopen(url).read().decode())"
   ]
  },
  {
   "cell_type": "code",
   "execution_count": null,
   "metadata": {},
   "outputs": [],
   "source": [
    "# Read the book and split into separate chapters\n",
    "little_women_url = 'http://data8.org/materials-fa17/lec/little_women.txt'\n",
    "little_women_text = read_url(little_women_url)\n",
    "chapters = little_women_text.split('CHAPTER ')[1:]"
   ]
  },
  {
   "cell_type": "code",
   "execution_count": null,
   "metadata": {},
   "outputs": [],
   "source": [
    "# create a table with one chapter's text in each row\n",
    "Table().with_column('Text', chapters)"
   ]
  },
  {
   "cell_type": "code",
   "execution_count": null,
   "metadata": {},
   "outputs": [],
   "source": [
    "# Simple check:  Count the number of times \"Christmas\" appears in each chapter\n",
    "np.char.count(chapters, 'Christmas')"
   ]
  },
  {
   "cell_type": "code",
   "execution_count": null,
   "metadata": {},
   "outputs": [],
   "source": [
    "# Count the number of times the characters' names appear in each chapter\n",
    "# and make a table with a column for each character\n",
    "references = Table().with_columns([\n",
    "    \"Jo\",   np.char.count(chapters, \"Jo\"),\n",
    "    \"Meg\",  np.char.count(chapters, \"Meg\"),\n",
    "    \"Amy\",  np.char.count(chapters, \"Amy\"),\n",
    "    \"Beth\", np.char.count(chapters, \"Beth\"),\n",
    "    \"Laurie\", np.char.count(chapters, \"Laurie\")\n",
    "])\n",
    "references"
   ]
  },
  {
   "cell_type": "code",
   "execution_count": null,
   "metadata": {},
   "outputs": [],
   "source": [
    "# plot appearances by chapter, one curve per character (column)\n",
    "references.plot()"
   ]
  },
  {
   "cell_type": "code",
   "execution_count": null,
   "metadata": {},
   "outputs": [],
   "source": [
    "# the plot-by-chapter is hard to interpret.  Plot cumulative sums:\n",
    "references.cumsum().plot()"
   ]
  },
  {
   "cell_type": "code",
   "execution_count": null,
   "metadata": {},
   "outputs": [],
   "source": [
    "# How would you see who's mentioned most often in each chapter?"
   ]
  },
  {
   "cell_type": "code",
   "execution_count": null,
   "metadata": {},
   "outputs": [],
   "source": [
    "# make a heat map of the references per chapter - mostly copied from Bikes\n",
    "plots.rcParams['figure.figsize'] = (11., 11.)  # make a square plot\n",
    "plots.figure()\n",
    "plots.grid(False)\n",
    "plots.pcolor(references.to_df())    # make an array of data (already in pivot form)\n",
    "plots.xlabel('Character')\n",
    "plots.ylabel('Chapter')\n",
    "# label the horizontal axis ticks with names instead of column numbers\n",
    "plots.xticks([0,1,2,3,4],[\"Jo\", \"Meg\", \"Amy\", \"Beth\", \"Laurie\"])\n",
    "plots.plot();"
   ]
  },
  {
   "cell_type": "code",
   "execution_count": null,
   "metadata": {},
   "outputs": [],
   "source": [
    "# Now, on a different topic, make a scatter plot of chapter length vs a measure of number of sentences\n",
    "Table().with_columns([\n",
    "        \"Characters\", [len(c) for c in chapters],\n",
    "        \"Periods\", np.char.count(chapters, \".\"),\n",
    "    ]).scatter('Periods')"
   ]
  },
  {
   "cell_type": "code",
   "execution_count": null,
   "metadata": {},
   "outputs": [],
   "source": [
    "# Which has the most sentences? \n",
    "# Which is longest?\n",
    "# Which chapter has the longest sentences on average? \n",
    "# \n",
    "# (Don't just point at the chart, find the chapter number for each.\n",
    "#  Note suppressed zero!)"
   ]
  },
  {
   "cell_type": "code",
   "execution_count": null,
   "metadata": {},
   "outputs": [],
   "source": [
    "lexy = Table().with_columns([   # create the table above and this time keep it\n",
    "        \"Characters\", [len(c) for c in chapters],\n",
    "        \"Periods\", np.char.count(chapters, \".\"),\n",
    "    ])\n",
    "chapterNum = range(1, len(chapters)+1)  # create an array for chapter numbers\n",
    "lexy = lexy.with_column(\"Chapter\", chapterNum)  # add a column of chapter numbers\n",
    "maxSentences = lexy['Periods'].max() # find the maximum number of sentences in a chapter\n",
    "lexy.where(lexy['Periods'] == maxSentences) # scan for and display that maximum number"
   ]
  },
  {
   "cell_type": "code",
   "execution_count": null,
   "metadata": {},
   "outputs": [],
   "source": [
    "maxCharacters = lexy['Characters'].max() # find the maximum number of characters in a chapter\n",
    "lexy.where(lexy['Characters'] == maxCharacters) # scan for and display that maximum number"
   ]
  },
  {
   "cell_type": "code",
   "execution_count": null,
   "metadata": {},
   "outputs": [],
   "source": [
    "# add a column with average sentence length\n",
    "lexy = lexy.with_column('AvgSentence', lexy['Characters']/lexy['Periods'])\n",
    "maxLength = lexy['AvgSentence'].max()\n",
    "lexy.where(lexy['AvgSentence'] == maxLength)"
   ]
  },
  {
   "cell_type": "code",
   "execution_count": null,
   "metadata": {},
   "outputs": [],
   "source": [
    "# What else can you look for in a book? (That you likely haven't read!)"
   ]
  }
 ],
 "metadata": {
  "anaconda-cloud": {},
  "kernelspec": {
   "display_name": "Python 3 (ipykernel)",
   "language": "python",
   "name": "python3"
  },
  "language_info": {
   "codemirror_mode": {
    "name": "ipython",
    "version": 3
   },
   "file_extension": ".py",
   "mimetype": "text/x-python",
   "name": "python",
   "nbconvert_exporter": "python",
   "pygments_lexer": "ipython3",
   "version": "3.9.12"
  }
 },
 "nbformat": 4,
 "nbformat_minor": 1
}
