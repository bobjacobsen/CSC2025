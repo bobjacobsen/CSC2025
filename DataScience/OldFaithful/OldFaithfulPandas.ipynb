{
 "cells": [
  {
   "cell_type": "markdown",
   "id": "f580253f",
   "metadata": {},
   "source": [
    "# Old Faithful"
   ]
  },
  {
   "cell_type": "code",
   "execution_count": null,
   "id": "3e21462f",
   "metadata": {},
   "outputs": [],
   "source": [
    "# Data file in this notebook is from https://www.stat.cmu.edu/~larry/all-of-statistics/=data/faithful.dat\n",
    "# The original paper is available as https://tommasorigon.github.io/StatI/approfondimenti/Azzalini1990.pdf"
   ]
  },
  {
   "cell_type": "code",
   "execution_count": null,
   "id": "b2a9dcdd",
   "metadata": {},
   "outputs": [],
   "source": [
    "# Standard definitions and options\n",
    "import pandas as pd\n",
    "from pandas import DataFrame\n",
    "import numpy as np\n",
    "%matplotlib inline\n",
    "import matplotlib.pyplot as plt\n",
    "plt.rcParams['figure.figsize'] = (10.0, 5.0)"
   ]
  },
  {
   "cell_type": "code",
   "execution_count": null,
   "id": "ac1c448a",
   "metadata": {},
   "outputs": [],
   "source": [
    "# read in the data from a CSV file\n",
    "data = pd.read_csv(\"oldfaithful.csv\")"
   ]
  },
  {
   "cell_type": "code",
   "execution_count": null,
   "id": "f788d585",
   "metadata": {},
   "outputs": [],
   "source": [
    "#take a look at the data\n",
    "data.head(10)"
   ]
  },
  {
   "cell_type": "code",
   "execution_count": null,
   "id": "2bc8b191",
   "metadata": {},
   "outputs": [],
   "source": [
    "# old faithful is famous for its repeatability - lets check some statistics\n",
    "data['Interval'].mean()"
   ]
  },
  {
   "cell_type": "code",
   "execution_count": null,
   "id": "eb4b3b03",
   "metadata": {},
   "outputs": [],
   "source": [
    "data['Interval'].std()"
   ]
  },
  {
   "cell_type": "code",
   "execution_count": null,
   "id": "35d8f1eb",
   "metadata": {},
   "outputs": [],
   "source": [
    "data['Interval'].min()"
   ]
  },
  {
   "cell_type": "code",
   "execution_count": null,
   "id": "b9012392",
   "metadata": {},
   "outputs": [],
   "source": [
    "data['Interval'].max()"
   ]
  },
  {
   "cell_type": "code",
   "execution_count": null,
   "id": "1b3242f6",
   "metadata": {},
   "outputs": [],
   "source": [
    "# while we're here, let's look at the other data we have\n",
    "data['Duration'].mean(), data['Duration'].std()"
   ]
  },
  {
   "cell_type": "code",
   "execution_count": null,
   "id": "125e4f8a",
   "metadata": {
    "scrolled": true
   },
   "outputs": [],
   "source": [
    "# let's take a look at what the distribution looks like\n",
    "plt.hist(data['Interval'], bins=40)\n",
    "plt.figtext(0.75,0.5, data['Interval'].describe().to_string())\n",
    "plt.title(\"Interval\");"
   ]
  },
  {
   "cell_type": "code",
   "execution_count": null,
   "id": "cda01a3d",
   "metadata": {},
   "outputs": [],
   "source": [
    "# maybe there's two peaks there. But that still doesn't give us a better way to predict the eruption.\n",
    "# Look at other information we have:\n",
    "plt.hist(data['Duration'], bins=40)\n",
    "plt.figtext(0.3,0.5, data['Duration'].describe().to_string())\n",
    "plt.title(\"Duration\");"
   ]
  },
  {
   "cell_type": "code",
   "execution_count": null,
   "id": "d651ff68",
   "metadata": {},
   "outputs": [],
   "source": [
    "# maybe there's a correlation?\n",
    "np.corrcoef(data['Duration'], data['Interval'])"
   ]
  },
  {
   "cell_type": "code",
   "execution_count": null,
   "id": "c93608ab",
   "metadata": {},
   "outputs": [],
   "source": [
    "# that's pretty strong, let's look at it\n",
    "plt.plot(data['Duration'], data['Interval']);"
   ]
  },
  {
   "cell_type": "code",
   "execution_count": null,
   "id": "8e27ec8f",
   "metadata": {},
   "outputs": [],
   "source": [
    "plt.plot(data['Duration'], data['Interval'],\"ob\");"
   ]
  },
  {
   "cell_type": "code",
   "execution_count": null,
   "id": "fdc0769b",
   "metadata": {},
   "outputs": [],
   "source": [
    "# there seems to be two populations there!\n",
    "\n",
    "# if we select just one:\n",
    "long_data = data[data['Duration'] > 3.2]\n",
    "plt.hist(long_data['Duration'], bins=20)\n",
    "plt.figtext(0.2,0.5, long_data['Duration'].describe().to_string())\n",
    "plt.title(\"Duration\");"
   ]
  },
  {
   "cell_type": "code",
   "execution_count": null,
   "id": "9401c596",
   "metadata": {},
   "outputs": [],
   "source": [
    "# but of course duration is more compact because we selected a narrower range,  How about interval?\n",
    "plt.hist(long_data['Interval'], bins=20)\n",
    "plt.figtext(0.75,0.5, long_data['Interval'].describe().to_string())\n",
    "plt.title(\"Interval with Duration > 3,2\");"
   ]
  },
  {
   "cell_type": "code",
   "execution_count": null,
   "id": "17a479c5",
   "metadata": {},
   "outputs": [],
   "source": [
    "# We're down to 50% in 8 minutes and an RMS of 6 minutes on a mean of 80; 10%!\n",
    "#\n",
    "# The shorter duration blob is left for the reader..."
   ]
  },
  {
   "cell_type": "code",
   "execution_count": null,
   "id": "6018c6e1",
   "metadata": {},
   "outputs": [],
   "source": []
  },
  {
   "cell_type": "code",
   "execution_count": null,
   "id": "d56c5ca9",
   "metadata": {},
   "outputs": [],
   "source": []
  },
  {
   "cell_type": "code",
   "execution_count": null,
   "id": "76ca997a",
   "metadata": {},
   "outputs": [],
   "source": [
    "# Try fitting a line instead\n",
    "d = np.polyfit(data['Duration'], data['Interval'],1)\n",
    "f = np.poly1d(d)\n",
    "data['trendline'] = f(data['Duration'])\n",
    "\n",
    "plt.plot(data['Duration'], data['Interval'],\"ob\");\n",
    "plt.plot(data['Duration'], data['trendline'],\"k\");"
   ]
  },
  {
   "cell_type": "code",
   "execution_count": null,
   "id": "5fb16d21",
   "metadata": {},
   "outputs": [],
   "source": [
    "# see how wide the difference from the linear fit is\n",
    "plt.hist(data['Interval']-data['trendline'], 20)\n",
    "plt.figtext(0.75,0.5, (data['Interval']-data['trendline']).describe().to_string())\n",
    "plt.title(\"DIfference from Fit\");"
   ]
  },
  {
   "cell_type": "code",
   "execution_count": null,
   "id": "f4f2d4b4",
   "metadata": {},
   "outputs": [],
   "source": [
    "# performance is about the same.  Is there a reason to prefer one method over another here?\n"
   ]
  },
  {
   "cell_type": "code",
   "execution_count": null,
   "id": "652fc649",
   "metadata": {},
   "outputs": [],
   "source": []
  },
  {
   "cell_type": "code",
   "execution_count": null,
   "id": "320713a9",
   "metadata": {},
   "outputs": [],
   "source": [
    "# try plotting duration and wait time vs the event number. Is there a pattern there?"
   ]
  },
  {
   "cell_type": "code",
   "execution_count": null,
   "id": "eadd06f4",
   "metadata": {},
   "outputs": [],
   "source": [
    "plt.plot(data['N'], data['Interval'],\"b\");"
   ]
  },
  {
   "cell_type": "code",
   "execution_count": null,
   "id": "fbdf6530",
   "metadata": {},
   "outputs": [],
   "source": [
    "plt.plot(data['N'], data['Duration'],\"b\");"
   ]
  },
  {
   "cell_type": "code",
   "execution_count": null,
   "id": "d7716a6f",
   "metadata": {},
   "outputs": [],
   "source": [
    "# did points or lines make the display clearer?\n",
    "# you can calculate the difference to the previous value and add it as a column:\n",
    "data['deltaD'] = data[\"Duration\"].diff()\n",
    "data['deltaD']"
   ]
  },
  {
   "cell_type": "code",
   "execution_count": null,
   "id": "65c7ed74",
   "metadata": {},
   "outputs": [],
   "source": [
    "data['deltaI'] = data[\"Interval\"].diff()\n",
    "data['deltaI']"
   ]
  },
  {
   "cell_type": "code",
   "execution_count": null,
   "id": "12f9b9a6",
   "metadata": {},
   "outputs": [],
   "source": [
    "# Plot deltaD vs deltaI and see if there's any grouping"
   ]
  },
  {
   "cell_type": "code",
   "execution_count": null,
   "id": "a3c6d9f0",
   "metadata": {},
   "outputs": [],
   "source": [
    "plt.plot(data['deltaD'], data['deltaI'],\"ob\");"
   ]
  },
  {
   "cell_type": "code",
   "execution_count": null,
   "id": "b3c8d885",
   "metadata": {},
   "outputs": [],
   "source": [
    "# does that look like three groups?  Is there a way to use this?"
   ]
  },
  {
   "cell_type": "code",
   "execution_count": null,
   "id": "9a05d47e",
   "metadata": {},
   "outputs": [],
   "source": [
    "plt.hist(data['deltaD'], 20);"
   ]
  },
  {
   "cell_type": "code",
   "execution_count": null,
   "id": "eaa68920",
   "metadata": {},
   "outputs": [],
   "source": [
    "plt.plot(data['deltaD'], data['Interval'],\"ob\");"
   ]
  },
  {
   "cell_type": "code",
   "execution_count": null,
   "id": "20248674",
   "metadata": {},
   "outputs": [],
   "source": [
    "# Two of those groups look tightly clustered. But something goes wrong when Duration doesn't alternate...\n",
    "# What data selection and plots would help you look at that?"
   ]
  },
  {
   "cell_type": "code",
   "execution_count": null,
   "id": "c61c3089",
   "metadata": {},
   "outputs": [],
   "source": []
  },
  {
   "cell_type": "code",
   "execution_count": null,
   "id": "ce22deca",
   "metadata": {},
   "outputs": [],
   "source": []
  }
 ],
 "metadata": {
  "kernelspec": {
   "display_name": "Python 3 (ipykernel)",
   "language": "python",
   "name": "python3"
  },
  "language_info": {
   "codemirror_mode": {
    "name": "ipython",
    "version": 3
   },
   "file_extension": ".py",
   "mimetype": "text/x-python",
   "name": "python",
   "nbconvert_exporter": "python",
   "pygments_lexer": "ipython3",
   "version": "3.9.12"
  }
 },
 "nbformat": 4,
 "nbformat_minor": 5
}
