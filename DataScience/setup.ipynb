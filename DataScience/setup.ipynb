{
 "cells": [
  {
   "cell_type": "code",
   "execution_count": null,
   "id": "f0285a5b",
   "metadata": {},
   "outputs": [],
   "source": [
    "# Make sure that necessary packages have been installed\n",
    "import sys\n",
    "!$sys.executable -m pip install datascience\n",
    "# If you run this a second time, you should get \"Requirement already satisfied\" lines"
   ]
  },
  {
   "cell_type": "code",
   "execution_count": null,
   "id": "c2e7b65b",
   "metadata": {},
   "outputs": [],
   "source": [
    "# These imports should now succeed\n",
    "import datascience\n",
    "import pandas\n",
    "import numpy\n",
    "import matplotlib"
   ]
  },
  {
   "cell_type": "code",
   "execution_count": null,
   "id": "ad015de7",
   "metadata": {},
   "outputs": [],
   "source": [
    "# Congratulations!  You're ready to do the exercises."
   ]
  }
 ],
 "metadata": {
  "kernelspec": {
   "display_name": "Python 3 (ipykernel)",
   "language": "python",
   "name": "python3"
  },
  "language_info": {
   "codemirror_mode": {
    "name": "ipython",
    "version": 3
   },
   "file_extension": ".py",
   "mimetype": "text/x-python",
   "name": "python",
   "nbconvert_exporter": "python",
   "pygments_lexer": "ipython3",
   "version": "3.9.12"
  }
 },
 "nbformat": 4,
 "nbformat_minor": 5
}
