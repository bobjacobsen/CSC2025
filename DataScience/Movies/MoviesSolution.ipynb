{
 "cells": [
  {
   "cell_type": "code",
   "execution_count": null,
   "metadata": {},
   "outputs": [],
   "source": [
    "# Usual imports\n",
    "from datascience import *\n",
    "import numpy as np\n",
    "\n",
    "%matplotlib inline\n",
    "import matplotlib.pyplot as plots\n",
    "plots.style.use('fivethirtyeight')"
   ]
  },
  {
   "cell_type": "markdown",
   "metadata": {},
   "source": [
    "## Movies"
   ]
  },
  {
   "cell_type": "code",
   "execution_count": null,
   "metadata": {},
   "outputs": [],
   "source": [
    "# Read and examine a table of actors and their careers\n",
    "actors = Table.read_table('actors.csv')\n",
    "actors"
   ]
  },
  {
   "cell_type": "code",
   "execution_count": null,
   "metadata": {},
   "outputs": [],
   "source": [
    "# Are there relations between number of movies and various outcomes?\n",
    "# Plot against Total Gross\n",
    "actors.scatter('Number of Movies', 'Total Gross')"
   ]
  },
  {
   "cell_type": "code",
   "execution_count": null,
   "metadata": {},
   "outputs": [],
   "source": [
    "# Plot against Average per Movie\n",
    "actors.scatter('Number of Movies', 'Average per Movie')"
   ]
  },
  {
   "cell_type": "code",
   "execution_count": null,
   "metadata": {},
   "outputs": [],
   "source": [
    "# Who is that actor with a small number of hugely successful movies?\n",
    "actors.where('Number of Movies', are.below(10))"
   ]
  },
  {
   "cell_type": "code",
   "execution_count": null,
   "metadata": {},
   "outputs": [],
   "source": [
    "# Let's consider him an outlier and redo the plot\n",
    "no_outlier = actors.where('Number of Movies', are.above(10))\n",
    "no_outlier.scatter('Number of Movies', 'Average per Movie')"
   ]
  },
  {
   "cell_type": "code",
   "execution_count": null,
   "metadata": {},
   "outputs": [],
   "source": [
    "# Who have appeared in the most movies?\n",
    "actors.where('Number of Movies', are.above(50))"
   ]
  },
  {
   "cell_type": "code",
   "execution_count": null,
   "metadata": {},
   "outputs": [],
   "source": [
    "# Read another dataset of movies by year\n",
    "movies = Table.read_table('movies_by_year.csv')\n",
    "movies"
   ]
  },
  {
   "cell_type": "code",
   "execution_count": null,
   "metadata": {},
   "outputs": [],
   "source": [
    "# Plot the number of movies by year\n",
    "movies.plot('Year', 'Number of Movies')"
   ]
  },
  {
   "cell_type": "code",
   "execution_count": null,
   "metadata": {},
   "outputs": [],
   "source": [
    "# Plot the number of movies during the 21st century\n",
    "century_21 = movies.where('Year', are.above(1999))\n",
    "century_21.plot('Year', 'Number of Movies')"
   ]
  },
  {
   "cell_type": "code",
   "execution_count": null,
   "metadata": {},
   "outputs": [],
   "source": [
    "# Plot the total gross of the 21st centuries movies\n",
    "century_21.plot('Year', 'Total Gross')"
   ]
  },
  {
   "cell_type": "code",
   "execution_count": null,
   "metadata": {},
   "outputs": [],
   "source": [
    "# what is the 2009 movie?\n",
    "century_21.where('Year', are.equal_to(2009))"
   ]
  },
  {
   "cell_type": "markdown",
   "metadata": {},
   "source": [
    "## Plotting Categorical Distributions"
   ]
  },
  {
   "cell_type": "code",
   "execution_count": null,
   "metadata": {},
   "outputs": [],
   "source": [
    "top = Table.read_table('top_movies_2021.csv')\n",
    "top\n",
    "# Note order!"
   ]
  },
  {
   "cell_type": "code",
   "execution_count": null,
   "metadata": {},
   "outputs": [],
   "source": [
    "# Shorten this to the top 5, just to make the plots easier to see\n",
    "top5 = top.take(np.arange(5))\n",
    "top5.barh('Title', 'Gross')"
   ]
  },
  {
   "cell_type": "code",
   "execution_count": null,
   "metadata": {},
   "outputs": [],
   "source": [
    "# make a similar plot for Gross Adjusted\n",
    "top5.barh('Title', 'Gross (Adjusted)')"
   ]
  },
  {
   "cell_type": "code",
   "execution_count": null,
   "metadata": {},
   "outputs": [],
   "source": [
    "top5.barh(0, 3) # You can use indexes instead of names\n",
    "# much less typing, but much harder to understand"
   ]
  },
  {
   "cell_type": "code",
   "execution_count": null,
   "metadata": {},
   "outputs": [],
   "source": [
    "# What does Gross look like for these?\n",
    "top5.select('Title', 'Gross').barh('Title')  "
   ]
  },
  {
   "cell_type": "code",
   "execution_count": null,
   "metadata": {},
   "outputs": [],
   "source": [
    "# Plot several quantities\n",
    "top5.select('Title', 'Gross', 'Gross (Adjusted)').barh('Title')"
   ]
  },
  {
   "cell_type": "code",
   "execution_count": null,
   "metadata": {},
   "outputs": [],
   "source": [
    "# Plot the ratio of Gross and Gross (Adjusted) by year\n",
    "result = top.with_column(\"ratio\", top[\"Gross (Adjusted)\"] / top[\"Gross\"]).sort(\"Year\")\n",
    "plots.plot(result['Year'], result['ratio']);\n",
    "# Any theories on what's going on?"
   ]
  },
  {
   "cell_type": "code",
   "execution_count": null,
   "metadata": {},
   "outputs": [],
   "source": [
    "# Look at some of the movies from 'low' years like 1950\n",
    "top.where(top['Year'] == 1950)\n",
    "# Try a few others, and some \"high\" ones.  Is there a pattern to the difference?"
   ]
  },
  {
   "cell_type": "code",
   "execution_count": null,
   "metadata": {},
   "outputs": [],
   "source": [
    "# Group by studio to see which has produced the most movies\n",
    "studios = top.group('Studio')\n",
    "studios"
   ]
  },
  {
   "cell_type": "code",
   "execution_count": null,
   "metadata": {},
   "outputs": [],
   "source": [
    "# Sort that from highest to lowest and make a bar plot\n",
    "studios.sort('count', descending=True).barh('Studio')"
   ]
  },
  {
   "cell_type": "code",
   "execution_count": null,
   "metadata": {},
   "outputs": [],
   "source": [
    "\n"
   ]
  },
  {
   "cell_type": "code",
   "execution_count": null,
   "metadata": {},
   "outputs": [],
   "source": []
  }
 ],
 "metadata": {
  "kernelspec": {
   "display_name": "Python 3 (ipykernel)",
   "language": "python",
   "name": "python3"
  },
  "language_info": {
   "codemirror_mode": {
    "name": "ipython",
    "version": 3
   },
   "file_extension": ".py",
   "mimetype": "text/x-python",
   "name": "python",
   "nbconvert_exporter": "python",
   "pygments_lexer": "ipython3",
   "version": "3.9.12"
  }
 },
 "nbformat": 4,
 "nbformat_minor": 2
}
