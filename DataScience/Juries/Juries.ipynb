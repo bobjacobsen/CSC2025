{
 "cells": [
  {
   "cell_type": "code",
   "execution_count": null,
   "metadata": {},
   "outputs": [],
   "source": [
    "from datascience import *\n",
    "import numpy as np\n",
    "import matplotlib.pyplot as plots\n",
    "plots.style.use('fivethirtyeight')\n",
    "%matplotlib inline\n",
    "import warnings\n",
    "warnings.simplefilter(action=\"ignore\", category=UserWarning)"
   ]
  },
  {
   "cell_type": "markdown",
   "metadata": {},
   "source": [
    "## Alameda County Juries"
   ]
  },
  {
   "cell_type": "code",
   "execution_count": null,
   "metadata": {},
   "outputs": [],
   "source": [
    "# Data from an ACLU 2018 report\n",
    "# Racial and Ethnic Disparities in Alameda County Jury Pools\n",
    "# https://www.aclunc.org/sites/default/files/racial_and_ethnic_disparities_in_alameda_county_jury_pools.pdf\n",
    "# 1453 people were included in the panels\n",
    "\n",
    "alameda = Table().with_columns(       # build by columns (see below for by-row)\n",
    "    'Ethnicity', make_array('Asian', 'Black', 'Latino', 'White', 'Other'),\n",
    "    'Eligible', make_array(0.15, 0.18, 0.12, 0.54, 0.01),\n",
    "    'Panels', make_array(0.26, 0.08, 0.08, 0.54, 0.04)\n",
    ")\n",
    "\n",
    "alameda.set_format([1, 2], PercentFormatter(0))  # the data columns hold a 0:1 number, but show in percent"
   ]
  },
  {
   "cell_type": "code",
   "execution_count": null,
   "metadata": {},
   "outputs": [],
   "source": [
    "# plot categorial (i.e. not numeric) data as bar chart\n",
    "alameda.barh(0)"
   ]
  },
  {
   "cell_type": "markdown",
   "metadata": {},
   "source": [
    "## Total Variation Distance"
   ]
  },
  {
   "cell_type": "code",
   "execution_count": null,
   "metadata": {},
   "outputs": [],
   "source": [
    "# Use the difference between two values as a metric of how much they vary\n",
    "diff = alameda.with_column('Difference',\n",
    "                    alameda.column('Eligible') - alameda.column('Panels'))\n",
    "diff"
   ]
  },
  {
   "cell_type": "code",
   "execution_count": null,
   "metadata": {},
   "outputs": [],
   "source": [
    "# take absolute value to keep all differences raising the metric\n",
    "abs_diff = diff.with_column('Abs. Difference',\n",
    "                        np.abs(diff.column('Difference')))\n",
    "abs_diff"
   ]
  },
  {
   "cell_type": "code",
   "execution_count": null,
   "metadata": {},
   "outputs": [],
   "source": [
    "sum(abs_diff.column('Abs. Difference')) / 2  # if one bar goes up, another goes down => divide by 2"
   ]
  },
  {
   "cell_type": "code",
   "execution_count": null,
   "metadata": {},
   "outputs": [],
   "source": [
    "# define a function to compute the TVD between normalized arrays\n",
    "def total_variation_distance(distribution_1, distribution_2):\n",
    "    \"\"\"Each distribution is an array of proportions that sums to 1.\"\"\"\n",
    "    return np.abs(distribution_1 - distribution_2).sum()/2"
   ]
  },
  {
   "cell_type": "code",
   "execution_count": null,
   "metadata": {},
   "outputs": [],
   "source": [
    "# define a function to compute the TVD between two table columns\n",
    "def table_tvd(table, label_1, label_2):\n",
    "    \"\"\" Calculate TVD from two specified columns \"\"\"\n",
    "    return total_variation_distance(table.column(label_1), table.column(label_2))"
   ]
  },
  {
   "cell_type": "code",
   "execution_count": null,
   "metadata": {},
   "outputs": [],
   "source": [
    "# and check it\n",
    "table_tvd(alameda, 'Eligible', 'Panels')"
   ]
  },
  {
   "cell_type": "markdown",
   "metadata": {},
   "source": [
    "## Simulating the statistic"
   ]
  },
  {
   "cell_type": "code",
   "execution_count": null,
   "metadata": {},
   "outputs": [],
   "source": [
    "# define a function to create a random panel \n",
    "def get_one_simulated_panel():\n",
    "    \"\"\" Create a panel of 1453 people \"\"\"\n",
    "    return alameda.select('Ethnicity').sample(1453, weights=alameda.column('Eligible'))"
   ]
  },
  {
   "cell_type": "code",
   "execution_count": null,
   "metadata": {},
   "outputs": [],
   "source": [
    "# do a single simulation by adding a \"Random\" column\n",
    "def simulate_once():\n",
    "    \"\"\" Create one simulated table \"\"\"\n",
    "    simulated_panel = get_one_simulated_panel()\n",
    "    counts = simulated_panel.group('Ethnicity')\n",
    "    sim_proportions = counts.select('Ethnicity').with_column('Random',\n",
    "                                    counts.column('count') / 1453)\n",
    "    sim_proportions.set_format(1, PercentFormatter(0))\n",
    "    return alameda.join('Ethnicity', sim_proportions)"
   ]
  },
  {
   "cell_type": "code",
   "execution_count": null,
   "metadata": {},
   "outputs": [],
   "source": [
    "simulate_once()"
   ]
  },
  {
   "cell_type": "code",
   "execution_count": null,
   "metadata": {},
   "outputs": [],
   "source": [
    "# Compute the empirical distribution of TVDs by simulation\n",
    "tvds = make_array()\n",
    "\n",
    "for i in np.arange(5000): # 5000 repetitions of the simulation\n",
    "    sim_results = simulate_once()\n",
    "    tvds = np.append(tvds, table_tvd(sim_results, 'Eligible', 'Random'))\n",
    "\n",
    "results = Table().with_column('TVD', tvds)\n",
    "results"
   ]
  },
  {
   "cell_type": "code",
   "execution_count": null,
   "metadata": {},
   "outputs": [],
   "source": [
    "results.hist(bins=np.arange(0, 0.2, 0.01))  # Try this one without binning argument"
   ]
  },
  {
   "cell_type": "markdown",
   "metadata": {},
   "source": [
    "## P-value"
   ]
  },
  {
   "cell_type": "code",
   "execution_count": null,
   "metadata": {},
   "outputs": [],
   "source": [
    "results.where(0, are.above_or_equal_to(0.14)).num_rows / results.num_rows"
   ]
  },
  {
   "cell_type": "markdown",
   "metadata": {
    "collapsed": true
   },
   "source": [
    "## Addendum: Alameda County Race & Ethnicity Distribution"
   ]
  },
  {
   "cell_type": "code",
   "execution_count": null,
   "metadata": {},
   "outputs": [],
   "source": [
    "# According to the 2010 Census, https://www.census.gov/2010census/popmap/\n",
    "\n",
    "alameda_race2010 = Table(['Race', 'Population']).with_rows([   # build by row\n",
    "    ['White', 649122],\n",
    "    ['African American', 198654],\n",
    "    ['Asian', 394560],\n",
    "    ['AIAN', 9799],\n",
    "    ['NHPI', 12802],\n",
    "    ['Some Other Race', 162540],\n",
    "    ['Two or more Races', 90997],\n",
    "])\n",
    "\n",
    "alameda_ethnicity2010 = Table(['Ethnicity', 'Population']).with_rows([\n",
    "    ['Hispanic or Latino', 339889],\n",
    "    ['Not Hispanic or Latino', 1170382],\n",
    "])\n",
    "\n",
    "# according to the 2020 census  https://www.census.gov/2020census/popmap/\n",
    "alameda_race = Table(['Race', 'Population']).with_rows([   # build by row\n",
    "    ['White', 689396],\n",
    "    ['African American', 190451],\n",
    "    ['Asian', 605813],\n",
    "    ['AIAN', 48407],\n",
    "    ['NHPI', 25113],\n",
    "    ['Some Other Race', 327619]  # 2020 includes two or more in this category\n",
    "])\n",
    "\n",
    "alameda_ethnicity = Table(['Ethnicity', 'Population']).with_rows([\n",
    "    ['Hispanic or Latino', 393749],\n",
    "    ['Not Hispanic or Latino', 1682353-393749],\n",
    "])\n",
    "\n",
    "# set up some nice formatting and show 2020 data\n",
    "\n",
    "alameda_race.set_format(\"Population\", DistributionFormatter).show()\n",
    "\n",
    "alameda_ethnicity.set_format(1, DistributionFormatter).show()"
   ]
  },
  {
   "cell_type": "code",
   "execution_count": null,
   "metadata": {},
   "outputs": [],
   "source": [
    "# How can we compare the 2010 census, the comparison data from the report, and the 2020 census? \n",
    "# (Hint: this is easier if you use the 'join' operator from the lecture and Drinks notebook, \n",
    "# but it can be done manually with what you know now)"
   ]
  },
  {
   "cell_type": "code",
   "execution_count": null,
   "metadata": {},
   "outputs": [],
   "source": []
  },
  {
   "cell_type": "code",
   "execution_count": null,
   "metadata": {},
   "outputs": [],
   "source": [
    "# Can we conclude anything from that? Maybe \"demographics is hard\"?"
   ]
  },
  {
   "cell_type": "code",
   "execution_count": null,
   "metadata": {},
   "outputs": [],
   "source": []
  },
  {
   "cell_type": "markdown",
   "metadata": {},
   "source": [
    "## Swain v. Alabama, a significant legal case"
   ]
  },
  {
   "cell_type": "code",
   "execution_count": null,
   "metadata": {},
   "outputs": [],
   "source": [
    "swain = Table().with_columns(\n",
    "    'Ethnicity', make_array('Black', 'Other'),\n",
    "    'Eligible', make_array(0.26, 0.74),\n",
    "    'Panel', make_array(0.08, 0.92)\n",
    ")\n",
    "\n",
    "swain.set_format([1, 2], PercentFormatter(0))"
   ]
  },
  {
   "cell_type": "code",
   "execution_count": null,
   "metadata": {},
   "outputs": [],
   "source": [
    "swain.barh(0)"
   ]
  },
  {
   "cell_type": "code",
   "execution_count": null,
   "metadata": {},
   "outputs": [],
   "source": [
    "table_tvd(swain, 'Eligible', 'Panel')"
   ]
  },
  {
   "cell_type": "code",
   "execution_count": null,
   "metadata": {},
   "outputs": [],
   "source": [
    "def simulate_one_swain(number):\n",
    "    simulated_panel = swain.select('Ethnicity').sample(number, weights=swain.column('Eligible'))\n",
    "    counts = simulated_panel.group('Ethnicity')\n",
    "    sim_proportions = counts.select('Ethnicity').with_column('Random',\n",
    "                                    counts.column('count') / number)\n",
    "    sim_proportions.set_format(1, PercentFormatter(0))\n",
    "    return swain.join('Ethnicity', sim_proportions)"
   ]
  },
  {
   "cell_type": "code",
   "execution_count": null,
   "metadata": {},
   "outputs": [],
   "source": [
    "simulate_one_swain(100)"
   ]
  },
  {
   "cell_type": "code",
   "execution_count": null,
   "metadata": {},
   "outputs": [],
   "source": [
    "# Compute the empirical distribution of TVDs\n",
    "\n",
    "tvds = make_array()\n",
    "\n",
    "for i in np.arange(5000): # 50000 repetitions of the simulation - slow, but smoother output\n",
    "    sim_results = simulate_one_swain(100)\n",
    "    tvds = np.append(tvds, table_tvd(sim_results, 'Eligible', 'Random'))\n",
    "\n",
    "results = Table().with_column('TVD between the population & a random sample', tvds)\n",
    "results"
   ]
  },
  {
   "cell_type": "code",
   "execution_count": null,
   "metadata": {},
   "outputs": [],
   "source": [
    "results.hist(bins=np.arange(0, 0.20, 0.010))"
   ]
  },
  {
   "cell_type": "code",
   "execution_count": null,
   "metadata": {},
   "outputs": [],
   "source": [
    "# P value\n",
    "results.where(0, are.above_or_equal_to(0.18)).num_rows / results.num_rows"
   ]
  },
  {
   "cell_type": "code",
   "execution_count": null,
   "metadata": {},
   "outputs": [],
   "source": []
  }
 ],
 "metadata": {
  "kernelspec": {
   "display_name": "Python 3 (ipykernel)",
   "language": "python",
   "name": "python3"
  },
  "language_info": {
   "codemirror_mode": {
    "name": "ipython",
    "version": 3
   },
   "file_extension": ".py",
   "mimetype": "text/x-python",
   "name": "python",
   "nbconvert_exporter": "python",
   "pygments_lexer": "ipython3",
   "version": "3.9.12"
  }
 },
 "nbformat": 4,
 "nbformat_minor": 2
}
